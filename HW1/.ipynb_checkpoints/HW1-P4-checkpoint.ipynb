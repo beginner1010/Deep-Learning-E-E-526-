{
 "cells": [
  {
   "cell_type": "markdown",
   "metadata": {},
   "source": [
    "__Fact__: If a function is twice differentiable and everywhere has _positive second derivative_, it is a __convex__ function. "
   ]
  },
  {
   "cell_type": "markdown",
   "metadata": {},
   "source": [
    "We need to show that $y = f(z) = \\log(1 + e^z)$ is a convex function."
   ]
  },
  {
   "cell_type": "markdown",
   "metadata": {},
   "source": [
    "__First Derivative:__\n",
    "\n",
    "We know that $\\frac{d}{dx}[e^x] = e^x$\n",
    "Therefore, we have:\n",
    "$$\\frac{dy}{dz} = \\frac{1}{(1 + e^z)\\ln(e)} \\times e^z = \\frac{e^z}{1 + e^z} = \\frac{1}{1 + e^{-z}}$$\n",
    "\n",
    "Therefore, the first derivative is basically the sigmoid function of $z$.\n",
    "Lets call the __sigmoid function $z$__ as $sigmoid(z)$.\n",
    "\n",
    "__Second Derivative:__\n",
    "\n",
    "We know that $\\frac{d}{dx}[e^{-x}] = -e^x$\n",
    "$$\\frac{d^2y}{dz^2} = \\frac{0 \\times (1 + e^{-z}) - (- e^{-z}) \\times 1}{(1 + e^{-z})^2} = \\frac{e^{-z}}{(1 + e^{-z})^2}$$\n",
    "\n",
    "\n",
    "$$ = \\frac{1}{1 + e^{-z}}\\times\\frac{e^{-z}}{1 + e^{-z}} = \\frac{1}{1 + e^{-z}}\\times\\frac{(1 + e^{-z}) - 1}{1 + e^{-z}}$$\n",
    "\n",
    "\n",
    "$$ = \\frac{1}{1 + e^{-z}}\\times (1 - \\frac{1}{1 + e^{-z}})$$\n",
    "\n",
    "$$ = sigmoid(z) (1 - sigmoid(z))$$.\n",
    "\n",
    "We know $0 \\leq sigmoid(z) \\leq 1$, for any $z$. Then, $0 \\leq (1 - sigmoid(z)) \\leq 1$. Therefore, we can conclude that $sigmoid(z) (1 - sigmoid(z)) \\geq 0$.\n",
    "\n",
    "Thus, the function $f(z)$ is a convex function."
   ]
  }
 ],
 "metadata": {
  "kernelspec": {
   "display_name": "Python 3",
   "language": "python",
   "name": "python3"
  },
  "language_info": {
   "codemirror_mode": {
    "name": "ipython",
    "version": 3
   },
   "file_extension": ".py",
   "mimetype": "text/x-python",
   "name": "python",
   "nbconvert_exporter": "python",
   "pygments_lexer": "ipython3",
   "version": "3.6.4"
  }
 },
 "nbformat": 4,
 "nbformat_minor": 2
}
