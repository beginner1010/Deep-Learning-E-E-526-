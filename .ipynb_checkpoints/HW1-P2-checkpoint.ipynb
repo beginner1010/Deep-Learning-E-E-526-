{
 "cells": [
  {
   "cell_type": "code",
   "execution_count": 1,
   "metadata": {},
   "outputs": [],
   "source": [
    "from __future__ import division, print_function, unicode_literals\n",
    "import warnings\n",
    "warnings.filterwarnings(\"ignore\")\n",
    "\n",
    "import numpy as np\n",
    "import pandas as pd\n",
    "\n",
    "%matplotlib inline\n",
    "import matplotlib\n",
    "import matplotlib.pyplot as plt\n",
    "from matplotlib import rc\n",
    "plt.rcParams['axes.labelsize'] = 18\n",
    "plt.rcParams['xtick.labelsize'] = 20\n",
    "plt.rcParams['ytick.labelsize'] = 20\n",
    "rc('text', usetex = True)\n",
    "rc('font', family='serif')"
   ]
  },
  {
   "cell_type": "markdown",
   "metadata": {},
   "source": [
    "### Data is given:"
   ]
  },
  {
   "cell_type": "code",
   "execution_count": 2,
   "metadata": {},
   "outputs": [
    {
     "data": {
      "text/html": [
       "<div>\n",
       "<style scoped>\n",
       "    .dataframe tbody tr th:only-of-type {\n",
       "        vertical-align: middle;\n",
       "    }\n",
       "\n",
       "    .dataframe tbody tr th {\n",
       "        vertical-align: top;\n",
       "    }\n",
       "\n",
       "    .dataframe thead th {\n",
       "        text-align: right;\n",
       "    }\n",
       "</style>\n",
       "<table border=\"1\" class=\"dataframe\">\n",
       "  <thead>\n",
       "    <tr style=\"text-align: right;\">\n",
       "      <th></th>\n",
       "      <th>x1</th>\n",
       "      <th>x2</th>\n",
       "      <th>y</th>\n",
       "    </tr>\n",
       "  </thead>\n",
       "  <tbody>\n",
       "    <tr>\n",
       "      <th>0</th>\n",
       "      <td>1</td>\n",
       "      <td>2</td>\n",
       "      <td>1</td>\n",
       "    </tr>\n",
       "    <tr>\n",
       "      <th>1</th>\n",
       "      <td>1</td>\n",
       "      <td>4</td>\n",
       "      <td>1</td>\n",
       "    </tr>\n",
       "    <tr>\n",
       "      <th>2</th>\n",
       "      <td>2</td>\n",
       "      <td>2</td>\n",
       "      <td>1</td>\n",
       "    </tr>\n",
       "    <tr>\n",
       "      <th>3</th>\n",
       "      <td>4</td>\n",
       "      <td>2</td>\n",
       "      <td>-1</td>\n",
       "    </tr>\n",
       "    <tr>\n",
       "      <th>4</th>\n",
       "      <td>3</td>\n",
       "      <td>4</td>\n",
       "      <td>-1</td>\n",
       "    </tr>\n",
       "  </tbody>\n",
       "</table>\n",
       "</div>"
      ],
      "text/plain": [
       "   x1  x2  y\n",
       "0   1   2  1\n",
       "1   1   4  1\n",
       "2   2   2  1\n",
       "3   4   2 -1\n",
       "4   3   4 -1"
      ]
     },
     "execution_count": 2,
     "metadata": {},
     "output_type": "execute_result"
    }
   ],
   "source": [
    "data = [[1, 2, 1],\n",
    "[1, 4, 1],\n",
    "[2, 2, 1],\n",
    "[4, 2, -1],\n",
    "[3, 4, -1],\n",
    "[2, 3, -1]]\n",
    "df = pd.DataFrame(np.array(data).reshape(-1, 3))\n",
    "df.columns = ['x1', 'x2', 'y']\n",
    "df.head()"
   ]
  },
  {
   "cell_type": "markdown",
   "metadata": {},
   "source": [
    "### Predict $y$ based on $X \\cdot \\theta^T$:"
   ]
  },
  {
   "cell_type": "code",
   "execution_count": 3,
   "metadata": {},
   "outputs": [],
   "source": [
    "def predict_y (theta, X):\n",
    "    y_pred = theta.T.dot(X.T)\n",
    "    y_pred [y_pred < 0] = -1 \n",
    "    y_pred [y_pred > 0] = +1 \n",
    "    # For the case y_pred [y_pred == 0] = 0: it means the hyperplane is on the point. \n",
    "    # By setting it to zero, we do not decide the class of the point in this case.\n",
    "    # Therefore, the algorithm will go to the next round and will not stop at this \n",
    "    iteration. This yields a better hyperplane. \n",
    "    return y_pred.reshape(-1, 1)"
   ]
  },
  {
   "cell_type": "code",
   "execution_count": 4,
   "metadata": {},
   "outputs": [],
   "source": [
    "def partial (y, y_pred, X):\n",
    "    return (y - y_pred).T.dot(X)"
   ]
  },
  {
   "cell_type": "markdown",
   "metadata": {},
   "source": [
    "### Add a column ones to $X$ for considering intercept:"
   ]
  },
  {
   "cell_type": "code",
   "execution_count": 5,
   "metadata": {},
   "outputs": [],
   "source": [
    "theta = np.c_[np.zeros(3)]\n",
    "eta = 0.1\n",
    "y = np.c_[df.y]\n",
    "X = np.c_[np.ones(6), df.x1, df.x2]"
   ]
  },
  {
   "cell_type": "markdown",
   "metadata": {},
   "source": [
    "### In linear Regression untill there is no convergence, continue the hypeplane adjustment:"
   ]
  },
  {
   "cell_type": "code",
   "execution_count": 6,
   "metadata": {},
   "outputs": [
    {
     "name": "stdout",
     "output_type": "stream",
     "text": [
      "Found theta is: \n",
      " [[ 7. ]\n",
      " [-3.1]\n",
      " [-0.3]]\n"
     ]
    }
   ],
   "source": [
    "y_pred = predict_y(theta, X)\n",
    "while np.array_equal(y, y_pred) == False:\n",
    "    p = np.array([eta]).dot(partial(y, y_pred, X)).reshape(-1, 1)\n",
    "    new_theta = theta + p\n",
    "    theta = new_theta\n",
    "    y_pred = predict_y(theta, X)\n",
    "print('Found theta is: \\n', theta)"
   ]
  },
  {
   "cell_type": "markdown",
   "metadata": {},
   "source": [
    "### Hyperplane is peripendicular to the vector $\\theta$:"
   ]
  },
  {
   "cell_type": "code",
   "execution_count": 7,
   "metadata": {},
   "outputs": [],
   "source": [
    "def draw_hyperplane(theta, xmin, xmax): #works only when hyperplane is a line\n",
    "    b = theta[0]\n",
    "    w1 = theta[1]\n",
    "    w2 = theta[2]\n",
    "    \n",
    "    x1 = np.linspace(xmin, xmax, 100)\n",
    "    x2 = -w1/w2 * x1 - b/w2\n",
    "    plt.plot(x1, x2, \"g-\", linewidth=2)\n",
    "    plt.annotate(\"Hyperplane\", xy=(1.9, 4), xytext=(3.2, 3), ha=\"center\", \n",
    "                 arrowprops=dict(facecolor='black', shrink=0.01), fontsize=22)"
   ]
  },
  {
   "cell_type": "markdown",
   "metadata": {},
   "source": [
    "# Plot"
   ]
  },
  {
   "cell_type": "code",
   "execution_count": 8,
   "metadata": {},
   "outputs": [
    {
     "data": {
      "image/png": "[encoded data removed]",
      "text/plain": [
       "<matplotlib.figure.Figure at 0x1c238e25ba8>"
      ]
     },
     "metadata": {},
     "output_type": "display_data"
    }
   ],
   "source": [
    "for y in [-1, 1]:\n",
    "    plt.scatter(x = df.x1[df.y == y], y = df.x2[df.y == y], marker='o' if y == -1 else '^', s=70, \n",
    "                c='blue' if y == -1 else 'red', label=('$y = %d$'%(y)), alpha=0.6)\n",
    "plt.legend(fontsize=18, fancybox=True, framealpha=1, \n",
    "           shadow=True, borderpad=1, bbox_to_anchor=(1.5, 1.05))\n",
    "plt.xlabel(\"$x_1$\", fontsize=24)\n",
    "dump = plt.ylabel(\"$x_2$\", fontsize=24)\n",
    "draw_hyperplane(theta, 1.7, 2.1)"
   ]
  }
 ],
 "metadata": {
  "kernelspec": {
   "display_name": "Python 3",
   "language": "python",
   "name": "python3"
  },
  "language_info": {
   "codemirror_mode": {
    "name": "ipython",
    "version": 3
   },
   "file_extension": ".py",
   "mimetype": "text/x-python",
   "name": "python",
   "nbconvert_exporter": "python",
   "pygments_lexer": "ipython3",
   "version": "3.6.4"
  }
 },
 "nbformat": 4,
 "nbformat_minor": 2
}
