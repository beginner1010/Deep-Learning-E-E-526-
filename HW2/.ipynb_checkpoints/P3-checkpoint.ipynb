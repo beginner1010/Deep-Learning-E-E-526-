{
 "cells": [
  {
   "cell_type": "code",
   "execution_count": 51,
   "metadata": {},
   "outputs": [],
   "source": [
    "import numpy as np"
   ]
  },
  {
   "cell_type": "code",
   "execution_count": 52,
   "metadata": {},
   "outputs": [],
   "source": [
    "class neuralNetwork:\n",
    "    w, b, p = np.array([]), np.array([]), np.array([])\n",
    "    def __init__(self, dim_a, dim_b, dim_c, dim_d):\n",
    "        self.w = np.zeros((dim_a, dim_b))\n",
    "        self.b = np.zeros((dim_c, dim_d))\n",
    "        return\n",
    "    def forward(self, x):\n",
    "        return np.dot(self.w, x) + self.b\n",
    "    def backward(self, y, x, p):\n",
    "        dz = (p - y) / y.shape[1]\n",
    "        dw = np.dot(dz, x.T)\n",
    "        db = dz\n",
    "        return dz, dw, db  \n",
    "    def softmax(self, z):\n",
    "        z_max = np.max(z, axis=0)\n",
    "        z = z - z_max\n",
    "        exp_z = np.exp(z)\n",
    "        sum_z = np.sum(exp_z, axis=0)\n",
    "        return exp_z / sum_z\n",
    "    def cost(self, p, y):\n",
    "        log_p = np.log(p)\n",
    "        return -1 * np.sum(np.multiply(log_p, y)) / y.shape[1]"
   ]
  },
  {
   "cell_type": "code",
   "execution_count": 53,
   "metadata": {},
   "outputs": [],
   "source": [
    "x = np.array([[1, 0], [0, 1]])\n",
    "y = np.array([[1, 0], [0, 1]])\n",
    "learning_rate = 1"
   ]
  },
  {
   "cell_type": "code",
   "execution_count": 54,
   "metadata": {},
   "outputs": [],
   "source": [
    "nn = neuralNetwork(2, 2, 2, 1)"
   ]
  },
  {
   "cell_type": "code",
   "execution_count": 55,
   "metadata": {},
   "outputs": [
    {
     "name": "stdout",
     "output_type": "stream",
     "text": [
      "iteration =  0\n",
      "z =  [[0.0, 0.0], [0.0, 0.0]]\n",
      "dz =  [[0.25, -0.25], [-0.25, 0.25]]\n",
      "p =  [[0.5, 0.5], [0.5, 0.5]]\n",
      "dW =  [[0.25, -0.25], [-0.25, 0.25]]\n",
      "db =  [[0.25, -0.25], [-0.25, 0.25]]\n",
      "iteration =  1\n",
      "z =  [[-0.5, 0.5], [0.5, -0.5]]\n",
      "dz =  [[0.36552928931500245, -0.36552928931500245], [-0.36552928931500245, 0.36552928931500245]]\n",
      "p =  [[0.2689414213699951, 0.7310585786300049], [0.7310585786300049, 0.2689414213699951]]\n",
      "dW =  [[0.36552928931500245, -0.36552928931500245], [-0.36552928931500245, 0.36552928931500245]]\n",
      "db =  [[0.36552928931500245, -0.36552928931500245], [-0.36552928931500245, 0.36552928931500245]]\n"
     ]
    }
   ],
   "source": [
    "for iter in range(2):\n",
    "    z = nn.forward(x)\n",
    "    p = nn.softmax(z)\n",
    "    J = nn.cost(p, y)\n",
    "    dz, dw, db = nn.backward(p, y, x)\n",
    "    nn.w = nn.w - learning_rate * dw\n",
    "    nn.b = nn.b - learning_rate * db\n",
    "    print('iteration = ', iter)\n",
    "    print('z = ', z.tolist())\n",
    "    print('dz = ', dz.tolist())\n",
    "    print('p = ', p.tolist())\n",
    "    print('dW = ', dw.tolist())\n",
    "    print('db = ', db.tolist())"
   ]
  },
  {
   "cell_type": "code",
   "execution_count": null,
   "metadata": {},
   "outputs": [],
   "source": []
  }
 ],
 "metadata": {
  "kernelspec": {
   "display_name": "Python 3",
   "language": "python",
   "name": "python3"
  },
  "language_info": {
   "codemirror_mode": {
    "name": "ipython",
    "version": 3
   },
   "file_extension": ".py",
   "mimetype": "text/x-python",
   "name": "python",
   "nbconvert_exporter": "python",
   "pygments_lexer": "ipython3",
   "version": "3.6.4"
  }
 },
 "nbformat": 4,
 "nbformat_minor": 2
}
